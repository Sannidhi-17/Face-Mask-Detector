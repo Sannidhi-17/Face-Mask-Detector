{
 "cells": [
  {
   "cell_type": "code",
   "execution_count": 1,
   "metadata": {},
   "outputs": [],
   "source": [
    "## Data Preprocessing"
   ]
  },
  {
   "cell_type": "code",
   "execution_count": 2,
   "metadata": {
    "colab": {},
    "colab_type": "code",
    "id": "r-YjqeJhNlLy"
   },
   "outputs": [
    {
     "name": "stdout",
     "output_type": "stream",
     "text": [
      "{'with mask': 0, 'without mask': 1}\n",
      "['with mask', 'without mask']\n",
      "[0, 1]\n"
     ]
    }
   ],
   "source": [
    "import cv2\n",
    "import os\n",
    "\n",
    "data_path = 'dataset'\n",
    "categories = os.listdir(data_path)\n",
    "labels = [i for i in range(len(categories))]\n",
    "\n",
    "label_dict = dict(zip(categories, labels))\n",
    "\n",
    "print(label_dict)\n",
    "print(categories)\n",
    "print(labels)\n"
   ]
  },
  {
   "cell_type": "code",
   "execution_count": 3,
   "metadata": {},
   "outputs": [],
   "source": [
    "img_size = 100\n",
    "data = []\n",
    "target = []\n",
    "\n",
    "for category in categories:\n",
    "    folder_path = os.path.join(data_path, category)\n",
    "    img_names = os.listdir(folder_path)\n",
    "    \n",
    "    for img_name in img_names:\n",
    "        img_path = os.path.join(folder_path, img_name)\n",
    "        img = cv2.imread(img_path)\n",
    "    \n",
    "        try:\n",
    "            gray = cv2.cvtColor(img, cv2.COLOR_BGR2GRAY)\n",
    "            resized = cv2.resize(gray, (img_size, img_size))\n",
    "            data.append(resized)\n",
    "            target.append(label_dict[category])\n",
    "        \n",
    "        \n",
    "        except Exception as e:\n",
    "            print(\"Exception:\", e)\n"
   ]
  },
  {
   "cell_type": "code",
   "execution_count": 4,
   "metadata": {},
   "outputs": [
    {
     "name": "stderr",
     "output_type": "stream",
     "text": [
      "Using TensorFlow backend.\n"
     ]
    }
   ],
   "source": [
    "import numpy as np\n",
    "\n",
    "data = np.array(data) / 255.0\n",
    "data = np.reshape(data, (data.shape[0], img_size, img_size, 1))\n",
    "target = np.array(target)\n",
    "\n",
    "from keras.utils import np_utils\n",
    "\n",
    "new_target = np_utils.to_categorical(target)"
   ]
  },
  {
   "cell_type": "code",
   "execution_count": 5,
   "metadata": {},
   "outputs": [],
   "source": [
    "np.save('data', data)\n",
    "np.save('target', new_target)"
   ]
  },
  {
   "cell_type": "code",
   "execution_count": 6,
   "metadata": {},
   "outputs": [],
   "source": [
    "## Training the CNN"
   ]
  },
  {
   "cell_type": "code",
   "execution_count": 7,
   "metadata": {},
   "outputs": [],
   "source": [
    "data = np.load('data.npy')\n",
    "target = np.load('target.npy')"
   ]
  },
  {
   "cell_type": "code",
   "execution_count": 8,
   "metadata": {},
   "outputs": [
    {
     "name": "stdout",
     "output_type": "stream",
     "text": [
      "WARNING:tensorflow:From C:\\Users\\Sannidhi\\Anaconda3\\envs\\nlp_course\\lib\\site-packages\\tensorflow\\python\\ops\\resource_variable_ops.py:435: colocate_with (from tensorflow.python.framework.ops) is deprecated and will be removed in a future version.\n",
      "Instructions for updating:\n",
      "Colocations handled automatically by placer.\n"
     ]
    }
   ],
   "source": [
    "from keras.models import Sequential\n",
    "from keras.layers import Dense, Activation, Flatten, Dropout\n",
    "from keras.layers import Conv2D, MaxPooling2D\n",
    "from keras.callbacks import ModelCheckpoint\n",
    "\n",
    "\n",
    "model = Sequential()\n",
    "\n",
    "model.add(Conv2D(100, (3,3), input_shape = data.shape[1:]))\n",
    "model.add(Activation('relu'))\n",
    "model.add(MaxPooling2D(pool_size = (2,2)))\n",
    "# 1st CNN layer followed by Relu anf MaxPooling layer\n",
    "\n",
    "model.add(Conv2D(100,(3,3)))\n",
    "model.add(Activation('relu'))\n",
    "model.add(MaxPooling2D(pool_size = (2,2)))\n",
    "#2nd CNN layer followed by relu and MaxPooling layer\n",
    "\n",
    "model.add(Flatten())\n",
    "model.add(Dropout(0.5))\n",
    "#flatten layer to stack the output convolutions from second layer\n",
    "\n",
    "model.add(Dense(50, activation = 'relu'))\n",
    "#dense layer of 64 neurons\n",
    "\n",
    "model.add(Dense(2, activation = 'softmax'))\n",
    "#the final layer with two outputs for two categories\n",
    "\n",
    "model.compile(loss = 'binary_crossentropy', optimizer ='adam', metrics = ['accuracy'])\n",
    "\n"
   ]
  },
  {
   "cell_type": "code",
   "execution_count": 9,
   "metadata": {},
   "outputs": [],
   "source": [
    "from sklearn.model_selection import train_test_split\n",
    "\n",
    "train_data, test_data, train_target, test_target = train_test_split(data, target, test_size = 0.2)\n"
   ]
  },
  {
   "cell_type": "code",
   "execution_count": 10,
   "metadata": {},
   "outputs": [
    {
     "name": "stdout",
     "output_type": "stream",
     "text": [
      "WARNING:tensorflow:From C:\\Users\\Sannidhi\\Anaconda3\\envs\\nlp_course\\lib\\site-packages\\tensorflow\\python\\ops\\math_ops.py:3066: to_int32 (from tensorflow.python.ops.math_ops) is deprecated and will be removed in a future version.\n",
      "Instructions for updating:\n",
      "Use tf.cast instead.\n",
      "Train on 880 samples, validate on 220 samples\n",
      "Epoch 1/20\n",
      "880/880 [==============================] - 70s 79ms/step - loss: 0.7246 - accuracy: 0.5330 - val_loss: 0.6735 - val_accuracy: 0.5136\n",
      "Epoch 2/20\n",
      "880/880 [==============================] - 74s 84ms/step - loss: 0.5934 - accuracy: 0.6852 - val_loss: 0.5710 - val_accuracy: 0.7364\n",
      "Epoch 3/20\n",
      "880/880 [==============================] - 76s 86ms/step - loss: 0.4507 - accuracy: 0.7830 - val_loss: 0.4835 - val_accuracy: 0.7864\n",
      "Epoch 4/20\n",
      "880/880 [==============================] - 69s 78ms/step - loss: 0.2910 - accuracy: 0.8818 - val_loss: 0.3277 - val_accuracy: 0.8955\n",
      "Epoch 5/20\n",
      "880/880 [==============================] - 71s 80ms/step - loss: 0.2446 - accuracy: 0.9034 - val_loss: 0.3025 - val_accuracy: 0.9045\n",
      "Epoch 6/20\n",
      "880/880 [==============================] - 71s 81ms/step - loss: 0.1537 - accuracy: 0.9477 - val_loss: 0.2844 - val_accuracy: 0.8864\n",
      "Epoch 7/20\n",
      "880/880 [==============================] - 71s 81ms/step - loss: 0.1248 - accuracy: 0.9545 - val_loss: 0.2845 - val_accuracy: 0.9227\n",
      "Epoch 8/20\n",
      "880/880 [==============================] - 76s 86ms/step - loss: 0.0940 - accuracy: 0.9705 - val_loss: 0.3195 - val_accuracy: 0.8909\n",
      "Epoch 9/20\n",
      "880/880 [==============================] - 72s 82ms/step - loss: 0.0751 - accuracy: 0.9716 - val_loss: 0.2913 - val_accuracy: 0.9136\n",
      "Epoch 10/20\n",
      "880/880 [==============================] - 68s 78ms/step - loss: 0.0614 - accuracy: 0.9807 - val_loss: 0.2571 - val_accuracy: 0.9273\n",
      "Epoch 11/20\n",
      "880/880 [==============================] - 78s 88ms/step - loss: 0.0582 - accuracy: 0.9784 - val_loss: 0.2570 - val_accuracy: 0.9227\n",
      "Epoch 12/20\n",
      "880/880 [==============================] - 81s 92ms/step - loss: 0.0374 - accuracy: 0.9886 - val_loss: 0.2723 - val_accuracy: 0.9182\n",
      "Epoch 13/20\n",
      "880/880 [==============================] - 92s 104ms/step - loss: 0.0215 - accuracy: 0.9955 - val_loss: 0.3263 - val_accuracy: 0.9273\n",
      "Epoch 14/20\n",
      "880/880 [==============================] - 76s 87ms/step - loss: 0.0629 - accuracy: 0.9727 - val_loss: 0.2805 - val_accuracy: 0.8955\n",
      "Epoch 15/20\n",
      "880/880 [==============================] - 71s 81ms/step - loss: 0.0474 - accuracy: 0.9830 - val_loss: 0.2768 - val_accuracy: 0.9091\n",
      "Epoch 16/20\n",
      "880/880 [==============================] - 71s 81ms/step - loss: 0.0205 - accuracy: 0.9943 - val_loss: 0.2707 - val_accuracy: 0.9318\n",
      "Epoch 17/20\n",
      "880/880 [==============================] - 70s 80ms/step - loss: 0.0146 - accuracy: 0.9955 - val_loss: 0.2800 - val_accuracy: 0.9273\n",
      "Epoch 18/20\n",
      "880/880 [==============================] - 73s 82ms/step - loss: 0.0119 - accuracy: 0.9977 - val_loss: 0.2953 - val_accuracy: 0.9273\n",
      "Epoch 19/20\n",
      "880/880 [==============================] - 74s 85ms/step - loss: 0.0174 - accuracy: 0.9943 - val_loss: 0.5536 - val_accuracy: 0.8773\n",
      "Epoch 20/20\n",
      "880/880 [==============================] - 80s 91ms/step - loss: 0.0381 - accuracy: 0.9807 - val_loss: 0.2849 - val_accuracy: 0.9182\n"
     ]
    }
   ],
   "source": [
    "checkpoint = ModelCheckpoint(',odel-{epoch:03d}.model', monitor = 'val_loss', verbose = 0,\n",
    "                            save_best_only = True, mode = 'auto')\n",
    "history = model.fit(train_data, train_target, epochs = 20,\n",
    "                   callbacks = [checkpoint], validation_split = 0.2)"
   ]
  },
  {
   "cell_type": "code",
   "execution_count": 11,
   "metadata": {},
   "outputs": [
    {
     "data": {
      "image/png": "[encoded data removed]",
      "text/plain": [
       "<Figure size 432x288 with 1 Axes>"
      ]
     },
     "metadata": {
      "needs_background": "light"
     },
     "output_type": "display_data"
    }
   ],
   "source": [
    "from matplotlib import pyplot as plt\n",
    "plt.plot(history.history['loss'], 'r', label= \"training_loss\")\n",
    "plt.plot(history.history['val_loss'], 'b', label = 'vaidation_loss')\n",
    "plt.xlabel('epoch')\n",
    "plt.ylabel('loss')\n",
    "plt.legend()\n",
    "plt.show()\n",
    "\n",
    "##Overfitting the model"
   ]
  },
  {
   "cell_type": "code",
   "execution_count": 12,
   "metadata": {},
   "outputs": [
    {
     "data": {
      "image/png": "[encoded data removed]",
      "text/plain": [
       "<Figure size 432x288 with 1 Axes>"
      ]
     },
     "metadata": {
      "needs_background": "light"
     },
     "output_type": "display_data"
    }
   ],
   "source": [
    "plt.plot(history.history['accuracy'], 'r', label = 'training_accuracy')\n",
    "plt.plot(history.history['val_accuracy'], 'b', label = 'Validation_accuracy')\n",
    "plt.xlabel('epochs')\n",
    "plt.ylabel('accuracy')\n",
    "plt.legend()\n",
    "plt.show()"
   ]
  },
  {
   "cell_type": "code",
   "execution_count": 13,
   "metadata": {},
   "outputs": [
    {
     "name": "stdout",
     "output_type": "stream",
     "text": [
      "276/276 [==============================] - 8s 28ms/step\n",
      "[0.21563116061514703, 0.9384058117866516]\n"
     ]
    }
   ],
   "source": [
    "print(model.evaluate(test_data, test_target))"
   ]
  },
  {
   "cell_type": "code",
   "execution_count": 14,
   "metadata": {},
   "outputs": [],
   "source": [
    "## Detecting Mask"
   ]
  },
  {
   "cell_type": "code",
   "execution_count": 15,
   "metadata": {},
   "outputs": [],
   "source": [
    "from keras.models import load_model\n"
   ]
  },
  {
   "cell_type": "code",
   "execution_count": 16,
   "metadata": {},
   "outputs": [],
   "source": [
    "model = load_model('model-017.model')\n",
    "\n",
    "face_clsfr=cv2.CascadeClassifier('haarcascade_frontalface_default.xml')\n",
    "\n",
    "source=cv2.VideoCapture(0)\n",
    "\n",
    "labels_dict={0:'with_mask',1:'without_mask'}\n",
    "color_dict={0:(0,255,0),1:(0,0,255)}"
   ]
  },
  {
   "cell_type": "code",
   "execution_count": 17,
   "metadata": {},
   "outputs": [],
   "source": [
    "while(True):\n",
    "\n",
    "    ret,img=source.read()\n",
    "    gray=cv2.cvtColor(img,cv2.COLOR_BGR2GRAY)\n",
    "    faces=face_clsfr.detectMultiScale(gray,1.3,5)  \n",
    "\n",
    "    for x,y,w,h in faces:\n",
    "    \n",
    "        face_img=gray[y:y+w,x:x+w]\n",
    "        resized=cv2.resize(face_img,(100,100))\n",
    "        normalized=resized/255.0\n",
    "        reshaped=np.reshape(normalized,(1,100,100,1))\n",
    "        result=model.predict(reshaped)\n",
    "\n",
    "        label=np.argmax(result,axis=1)[0]\n",
    "      \n",
    "        cv2.rectangle(img,(x,y),(x+w,y+h),color_dict[label],2)\n",
    "        cv2.rectangle(img,(x,y-40),(x+w,y),color_dict[label],-1)\n",
    "        cv2.putText(img, labels_dict[label], (x, y-10),cv2.FONT_HERSHEY_SIMPLEX,0.8,(255,255,255),2)\n",
    "        \n",
    "        \n",
    "    cv2.imshow('LIVE',img)\n",
    "    key=cv2.waitKey(1)\n",
    "    \n",
    "    if(key==27):\n",
    "        break\n",
    "        \n",
    "cv2.destroyAllWindows()\n",
    "source.release()"
   ]
  }
 ],
 "metadata": {
  "colab": {
   "name": "face_mask_detection.ipynb",
   "provenance": []
  },
  "kernelspec": {
   "display_name": "Python 3",
   "language": "python",
   "name": "python3"
  },
  "language_info": {
   "codemirror_mode": {
    "name": "ipython",
    "version": 3
   },
   "file_extension": ".py",
   "mimetype": "text/x-python",
   "name": "python",
   "nbconvert_exporter": "python",
   "pygments_lexer": "ipython3",
   "version": "3.7.7"
  }
 },
 "nbformat": 4,
 "nbformat_minor": 1
}
